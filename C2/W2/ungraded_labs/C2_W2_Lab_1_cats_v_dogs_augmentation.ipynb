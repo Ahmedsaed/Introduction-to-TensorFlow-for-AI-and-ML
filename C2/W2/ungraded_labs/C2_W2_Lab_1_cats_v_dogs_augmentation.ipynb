{
 "cells": [
  {
   "cell_type": "markdown",
   "metadata": {},
   "source": [
    "<a href=\"https://colab.research.google.com/github/https-deeplearning-ai/tensorflow-1-public/blob/master/C2/W2/ungraded_labs/C2_W2_Lab_1_cats_v_dogs_augmentation.ipynb\" target=\"_parent\"><img src=\"https://colab.research.google.com/assets/colab-badge.svg\" alt=\"Open In Colab\"/></a>"
   ]
  },
  {
   "cell_type": "markdown",
   "metadata": {
    "id": "gGxCD4mGHHjG"
   },
   "source": [
    "# Ungraded Lab: Data Augmentation\n",
    "\n",
    "In the previous lessons, you saw that having a high training accuracy does not automatically mean having a good predictive model. It can still perform poorly on new data because it has overfit to the training set. In this lab, you will see how to avoid that using _data augmentation_. This increases the amount of training data by modifying the existing training data's properties. For example, in image data, you can apply different preprocessing techniques such as rotate, flip, shear, or zoom on your existing images so you can simulate other data that the model should also learn from. This way, the model would see more variety in the images during training so it will infer better on new, previously unseen data.\n",
    "\n",
    "Let's see how you can do this in the following sections."
   ]
  },
  {
   "cell_type": "markdown",
   "metadata": {
    "id": "kJJqX4DxcQs8"
   },
   "source": [
    "## Baseline Performance\n",
    "\n",
    "You will start with a model that's very effective at learning `Cats vs Dogs` without data augmentation. It's similar to the previous models that you have used. Note that there are four convolutional layers with 32, 64, 128 and 128 convolutions respectively. The code is basically the same from the previous lab so we won't go over the details step by step since you've already seen it before.\n",
    "\n",
    "You will train only for 20 epochs to save time but feel free to increase this if you want."
   ]
  },
  {
   "cell_type": "code",
   "execution_count": 1,
   "metadata": {
    "id": "zJZIF29-dIRv"
   },
   "outputs": [
    {
     "name": "stdout",
     "output_type": "stream",
     "text": [
      "--2022-07-13 13:55:47--  https://storage.googleapis.com/tensorflow-1-public/course2/cats_and_dogs_filtered.zip\n",
      "Loaded CA certificate '/etc/ssl/certs/ca-certificates.crt'\n",
      "Resolving storage.googleapis.com (storage.googleapis.com)... 216.58.205.208, 172.217.21.16, 142.251.37.176, ...\n",
      "Connecting to storage.googleapis.com (storage.googleapis.com)|216.58.205.208|:443... connected.\n",
      "HTTP request sent, awaiting response... 200 OK\n",
      "Length: 68606236 (65M) [application/zip]\n",
      "Saving to: ‘cats_and_dogs_filtered.zip’\n",
      "\n",
      "cats_and_dogs_filte 100%[===================>]  65.43M  3.42MB/s    in 19s     \n",
      "\n",
      "2022-07-13 13:56:07 (3.41 MB/s) - ‘cats_and_dogs_filtered.zip’ saved [68606236/68606236]\n",
      "\n"
     ]
    }
   ],
   "source": [
    "# Download the dataset\n",
    "!wget https://storage.googleapis.com/tensorflow-1-public/course2/cats_and_dogs_filtered.zip"
   ]
  },
  {
   "cell_type": "code",
   "execution_count": 2,
   "metadata": {
    "id": "_DyUfCTgdwa8"
   },
   "outputs": [],
   "source": [
    "import os\n",
    "import zipfile\n",
    "\n",
    "# Extract the archive\n",
    "zip_ref = zipfile.ZipFile(\"./cats_and_dogs_filtered.zip\", 'r')\n",
    "zip_ref.extractall(\"tmp/\")\n",
    "zip_ref.close()\n",
    "\n",
    "# Assign training and validation set directories\n",
    "base_dir = 'tmp/cats_and_dogs_filtered'\n",
    "train_dir = os.path.join(base_dir, 'train')\n",
    "validation_dir = os.path.join(base_dir, 'validation')\n",
    "\n",
    "# Directory with training cat pictures\n",
    "train_cats_dir = os.path.join(train_dir, 'cats')\n",
    "\n",
    "# Directory with training dog pictures\n",
    "train_dogs_dir = os.path.join(train_dir, 'dogs')\n",
    "\n",
    "# Directory with validation cat pictures\n",
    "validation_cats_dir = os.path.join(validation_dir, 'cats')\n",
    "\n",
    "# Directory with validation dog pictures\n",
    "validation_dogs_dir = os.path.join(validation_dir, 'dogs')"
   ]
  },
  {
   "cell_type": "markdown",
   "metadata": {
    "id": "Ub_BdOJIfZ_Q"
   },
   "source": [
    "You will place the model creation inside a function so you can easily initialize a new one when you use data augmentation later in this notebook."
   ]
  },
  {
   "cell_type": "code",
   "execution_count": 3,
   "metadata": {
    "id": "uWllK_Wad-Mx"
   },
   "outputs": [
    {
     "name": "stderr",
     "output_type": "stream",
     "text": [
      "2022-07-13 13:56:32.094364: W tensorflow/stream_executor/platform/default/dso_loader.cc:64] Could not load dynamic library 'libcudart.so.11.0'; dlerror: libcudart.so.11.0: cannot open shared object file: No such file or directory\n",
      "2022-07-13 13:56:32.094415: I tensorflow/stream_executor/cuda/cudart_stub.cc:29] Ignore above cudart dlerror if you do not have a GPU set up on your machine.\n"
     ]
    }
   ],
   "source": [
    "import tensorflow as tf\n",
    "from tensorflow.keras.optimizers import RMSprop\n",
    "\n",
    "def create_model():\n",
    "  '''Creates a CNN with 4 convolutional layers'''\n",
    "  model = tf.keras.models.Sequential([\n",
    "      tf.keras.layers.Conv2D(32, (3,3), activation='relu', input_shape=(150, 150, 3)),\n",
    "      tf.keras.layers.MaxPooling2D(2, 2),\n",
    "      tf.keras.layers.Conv2D(64, (3,3), activation='relu'),\n",
    "      tf.keras.layers.MaxPooling2D(2,2),\n",
    "      tf.keras.layers.Conv2D(128, (3,3), activation='relu'),\n",
    "      tf.keras.layers.MaxPooling2D(2,2),\n",
    "      tf.keras.layers.Conv2D(128, (3,3), activation='relu'),\n",
    "      tf.keras.layers.MaxPooling2D(2,2),\n",
    "      tf.keras.layers.Flatten(),\n",
    "      tf.keras.layers.Dense(512, activation='relu'),\n",
    "      tf.keras.layers.Dense(1, activation='sigmoid')\n",
    "  ])\n",
    "\n",
    "  model.compile(loss='binary_crossentropy',\n",
    "                optimizer=RMSprop(learning_rate=1e-4),\n",
    "                metrics=['accuracy'])\n",
    "  \n",
    "  return model"
   ]
  },
  {
   "cell_type": "code",
   "execution_count": 4,
   "metadata": {
    "id": "MJPyDEzOqrKB"
   },
   "outputs": [
    {
     "name": "stdout",
     "output_type": "stream",
     "text": [
      "Found 2000 images belonging to 2 classes.\n",
      "Found 1000 images belonging to 2 classes.\n"
     ]
    }
   ],
   "source": [
    "from tensorflow.keras.preprocessing.image import ImageDataGenerator\n",
    "\n",
    "# All images will be rescaled by 1./255\n",
    "train_datagen = ImageDataGenerator(rescale=1./255)\n",
    "test_datagen = ImageDataGenerator(rescale=1./255)\n",
    "\n",
    "# Flow training images in batches of 20 using train_datagen generator\n",
    "train_generator = train_datagen.flow_from_directory(\n",
    "        train_dir,  # This is the source directory for training images\n",
    "        target_size=(150, 150),  # All images will be resized to 150x150\n",
    "        batch_size=20,\n",
    "        # Since we use binary_crossentropy loss, we need binary labels\n",
    "        class_mode='binary')\n",
    "\n",
    "# Flow validation images in batches of 20 using test_datagen generator\n",
    "validation_generator = test_datagen.flow_from_directory(\n",
    "        validation_dir,\n",
    "        target_size=(150, 150),\n",
    "        batch_size=20,\n",
    "        class_mode='binary')"
   ]
  },
  {
   "cell_type": "code",
   "execution_count": 5,
   "metadata": {
    "id": "hdqUoF44esR3"
   },
   "outputs": [
    {
     "name": "stderr",
     "output_type": "stream",
     "text": [
      "2022-07-13 13:56:55.673170: W tensorflow/stream_executor/platform/default/dso_loader.cc:64] Could not load dynamic library 'libcuda.so.1'; dlerror: libcuda.so.1: cannot open shared object file: No such file or directory\n",
      "2022-07-13 13:56:55.673211: W tensorflow/stream_executor/cuda/cuda_driver.cc:269] failed call to cuInit: UNKNOWN ERROR (303)\n",
      "2022-07-13 13:56:55.673250: I tensorflow/stream_executor/cuda/cuda_diagnostics.cc:156] kernel driver does not appear to be running on this host (Main-Desktop-Linux): /proc/driver/nvidia/version does not exist\n"
     ]
    },
    {
     "name": "stdout",
     "output_type": "stream",
     "text": [
      "Epoch 1/20\n",
      "100/100 - 51s - loss: 0.6866 - accuracy: 0.5530 - val_loss: 0.6783 - val_accuracy: 0.5730 - 51s/epoch - 507ms/step\n",
      "Epoch 2/20\n",
      "100/100 - 50s - loss: 0.6585 - accuracy: 0.6135 - val_loss: 0.6436 - val_accuracy: 0.6370 - 50s/epoch - 499ms/step\n",
      "Epoch 3/20\n",
      "100/100 - 49s - loss: 0.6194 - accuracy: 0.6595 - val_loss: 0.6086 - val_accuracy: 0.6750 - 49s/epoch - 494ms/step\n",
      "Epoch 4/20\n",
      "100/100 - 50s - loss: 0.5728 - accuracy: 0.6970 - val_loss: 0.5790 - val_accuracy: 0.6990 - 50s/epoch - 498ms/step\n",
      "Epoch 5/20\n",
      "100/100 - 53s - loss: 0.5385 - accuracy: 0.7135 - val_loss: 0.5970 - val_accuracy: 0.6700 - 53s/epoch - 532ms/step\n",
      "Epoch 6/20\n",
      "100/100 - 52s - loss: 0.5153 - accuracy: 0.7410 - val_loss: 0.5544 - val_accuracy: 0.7260 - 52s/epoch - 515ms/step\n",
      "Epoch 7/20\n",
      "100/100 - 53s - loss: 0.4827 - accuracy: 0.7695 - val_loss: 0.5810 - val_accuracy: 0.7030 - 53s/epoch - 532ms/step\n",
      "Epoch 8/20\n",
      "100/100 - 51s - loss: 0.4668 - accuracy: 0.7685 - val_loss: 0.5516 - val_accuracy: 0.7140 - 51s/epoch - 507ms/step\n",
      "Epoch 9/20\n",
      "100/100 - 51s - loss: 0.4444 - accuracy: 0.7995 - val_loss: 0.5404 - val_accuracy: 0.7290 - 51s/epoch - 511ms/step\n",
      "Epoch 10/20\n",
      "100/100 - 49s - loss: 0.4112 - accuracy: 0.8120 - val_loss: 0.5175 - val_accuracy: 0.7420 - 49s/epoch - 495ms/step\n",
      "Epoch 11/20\n",
      "100/100 - 53s - loss: 0.3827 - accuracy: 0.8230 - val_loss: 0.5735 - val_accuracy: 0.7210 - 53s/epoch - 527ms/step\n",
      "Epoch 12/20\n",
      "100/100 - 52s - loss: 0.3623 - accuracy: 0.8390 - val_loss: 0.5362 - val_accuracy: 0.7310 - 52s/epoch - 518ms/step\n",
      "Epoch 13/20\n",
      "100/100 - 50s - loss: 0.3356 - accuracy: 0.8585 - val_loss: 0.5173 - val_accuracy: 0.7470 - 50s/epoch - 497ms/step\n",
      "Epoch 14/20\n",
      "100/100 - 51s - loss: 0.3110 - accuracy: 0.8775 - val_loss: 0.6641 - val_accuracy: 0.7120 - 51s/epoch - 513ms/step\n",
      "Epoch 15/20\n",
      "100/100 - 51s - loss: 0.2892 - accuracy: 0.8855 - val_loss: 0.5321 - val_accuracy: 0.7570 - 51s/epoch - 510ms/step\n",
      "Epoch 16/20\n",
      "100/100 - 50s - loss: 0.2614 - accuracy: 0.8955 - val_loss: 0.5673 - val_accuracy: 0.7320 - 50s/epoch - 503ms/step\n",
      "Epoch 17/20\n",
      "100/100 - 50s - loss: 0.2355 - accuracy: 0.9130 - val_loss: 0.5791 - val_accuracy: 0.7380 - 50s/epoch - 496ms/step\n",
      "Epoch 18/20\n",
      "100/100 - 50s - loss: 0.2169 - accuracy: 0.9125 - val_loss: 0.6208 - val_accuracy: 0.7490 - 50s/epoch - 497ms/step\n",
      "Epoch 19/20\n",
      "100/100 - 49s - loss: 0.1981 - accuracy: 0.9240 - val_loss: 0.5692 - val_accuracy: 0.7630 - 49s/epoch - 494ms/step\n",
      "Epoch 20/20\n",
      "100/100 - 49s - loss: 0.1809 - accuracy: 0.9370 - val_loss: 0.6465 - val_accuracy: 0.7420 - 49s/epoch - 490ms/step\n"
     ]
    }
   ],
   "source": [
    "# Constant for epochs\n",
    "EPOCHS = 20\n",
    "\n",
    "# Create a new model\n",
    "model = create_model()\n",
    "\n",
    "# Train the model\n",
    "history = model.fit(\n",
    "      train_generator,\n",
    "      steps_per_epoch=100,  # 2000 images = batch_size * steps\n",
    "      epochs=EPOCHS,\n",
    "      validation_data=validation_generator,\n",
    "      validation_steps=50,  # 1000 images = batch_size * steps\n",
    "      verbose=2)"
   ]
  },
  {
   "cell_type": "markdown",
   "metadata": {
    "id": "Y-G0Am4cguNt"
   },
   "source": [
    "You will then visualize the loss and accuracy with respect to the training and validation set. You will again use a convenience function so it can be reused later. This function accepts a [History](https://www.tensorflow.org/api_docs/python/tf/keras/callbacks/History) object which contains the results of the `fit()` method you ran above."
   ]
  },
  {
   "cell_type": "code",
   "execution_count": 6,
   "metadata": {
    "id": "GZWPcmKWO303"
   },
   "outputs": [],
   "source": [
    "import matplotlib.pyplot as plt\n",
    "\n",
    "def plot_loss_acc(history):\n",
    "  '''Plots the training and validation loss and accuracy from a history object'''\n",
    "  acc = history.history['accuracy']\n",
    "  val_acc = history.history['val_accuracy']\n",
    "  loss = history.history['loss']\n",
    "  val_loss = history.history['val_loss']\n",
    "\n",
    "  epochs = range(len(acc))\n",
    "\n",
    "  plt.plot(epochs, acc, 'bo', label='Training accuracy')\n",
    "  plt.plot(epochs, val_acc, 'b', label='Validation accuracy')\n",
    "  plt.title('Training and validation accuracy')\n",
    "\n",
    "  plt.figure()\n",
    "\n",
    "  plt.plot(epochs, loss, 'bo', label='Training Loss')\n",
    "  plt.plot(epochs, val_loss, 'b', label='Validation Loss')\n",
    "  plt.title('Training and validation loss')\n",
    "  plt.legend()\n",
    "\n",
    "  plt.show()"
   ]
  },
  {
   "cell_type": "code",
   "execution_count": 7,
   "metadata": {
    "id": "Vojz4NYXiT_f"
   },
   "outputs": [
    {
     "data": {
      "image/png": "[encoded data removed]",
      "text/plain": [
       "<Figure size 432x288 with 1 Axes>"
      ]
     },
     "metadata": {
      "needs_background": "light"
     },
     "output_type": "display_data"
    },
    {
     "data": {
      "image/png": "[encoded data removed]",
      "text/plain": [
       "<Figure size 432x288 with 1 Axes>"
      ]
     },
     "metadata": {
      "needs_background": "light"
     },
     "output_type": "display_data"
    }
   ],
   "source": [
    "# Plot training results\n",
    "plot_loss_acc(history)"
   ]
  },
  {
   "cell_type": "markdown",
   "metadata": {
    "id": "zb81GvNov-Tg"
   },
   "source": [
    "From the results above, you'll see the training accuracy is more than 90%, and the validation accuracy is in the 70%-80% range. This is a great example of _overfitting_ -- which in short means that it can do very well with images it has seen before, but not so well with images it hasn't.\n"
   ]
  },
  {
   "cell_type": "markdown",
   "metadata": {
    "id": "5KBz-vFbjLZX"
   },
   "source": [
    "## Data augmentation\n",
    "\n",
    "One simple method to avoid overfitting is to augment the images a bit. If you think about it, most pictures of a cat are very similar -- the ears are at the top, then the eyes, then the mouth etc. Things like the distance between the eyes and ears will always be quite similar too. \n",
    "\n",
    "What if you tweak with the images a bit -- rotate the image, squash it, etc.  That's what image augementation is all about. And there's an API that makes it easy!\n",
    "\n",
    "Take a look at the [ImageDataGenerator](https://www.tensorflow.org/api_docs/python/tf/keras/preprocessing/image/ImageDataGenerator) which you have been using to rescale the image. There are other properties on it that you can use to augment the image. \n",
    "\n",
    "```\n",
    "# Updated to do image augmentation\n",
    "train_datagen = ImageDataGenerator(\n",
    "      rotation_range=40,\n",
    "      width_shift_range=0.2,\n",
    "      height_shift_range=0.2,\n",
    "      shear_range=0.2,\n",
    "      zoom_range=0.2,\n",
    "      horizontal_flip=True,\n",
    "      fill_mode='nearest')\n",
    "```\n",
    "\n",
    "These are just a few of the options available. Let's quickly go over it:\n",
    "\n",
    "* `rotation_range` is a value in degrees (0–180) within which to randomly rotate pictures.\n",
    "* `width_shift` and `height_shift` are ranges (as a fraction of total width or height) within which to randomly translate pictures vertically or horizontally.\n",
    "* `shear_range` is for randomly applying shearing transformations.\n",
    "* `zoom_range` is for randomly zooming inside pictures.\n",
    "* `horizontal_flip` is for randomly flipping half of the images horizontally. This is relevant when there are no assumptions of horizontal assymmetry (e.g. real-world pictures).\n",
    "* `fill_mode` is the strategy used for filling in newly created pixels, which can appear after a rotation or a width/height shift.\n",
    "\n",
    "\n",
    "Run the next cells to see the impact on the results. The code is similar to the baseline but the definition of `train_datagen` has been updated to use the parameters described above.\n"
   ]
  },
  {
   "cell_type": "code",
   "execution_count": 8,
   "metadata": {
    "id": "UK7_Fflgv8YC"
   },
   "outputs": [
    {
     "name": "stdout",
     "output_type": "stream",
     "text": [
      "Found 2000 images belonging to 2 classes.\n",
      "Found 1000 images belonging to 2 classes.\n",
      "Epoch 1/20\n",
      "100/100 - 57s - loss: 0.6938 - accuracy: 0.5275 - val_loss: 0.6830 - val_accuracy: 0.5140 - 57s/epoch - 571ms/step\n",
      "Epoch 2/20\n",
      "100/100 - 54s - loss: 0.6832 - accuracy: 0.5595 - val_loss: 0.7639 - val_accuracy: 0.5000 - 54s/epoch - 538ms/step\n",
      "Epoch 3/20\n",
      "100/100 - 54s - loss: 0.6697 - accuracy: 0.5845 - val_loss: 0.6405 - val_accuracy: 0.6350 - 54s/epoch - 543ms/step\n",
      "Epoch 4/20\n",
      "100/100 - 55s - loss: 0.6560 - accuracy: 0.6075 - val_loss: 0.6153 - val_accuracy: 0.6760 - 55s/epoch - 547ms/step\n",
      "Epoch 5/20\n",
      "100/100 - 52s - loss: 0.6364 - accuracy: 0.6330 - val_loss: 0.6379 - val_accuracy: 0.6050 - 52s/epoch - 520ms/step\n",
      "Epoch 6/20\n",
      "100/100 - 51s - loss: 0.6183 - accuracy: 0.6660 - val_loss: 0.5869 - val_accuracy: 0.6790 - 51s/epoch - 514ms/step\n",
      "Epoch 7/20\n",
      "100/100 - 52s - loss: 0.6185 - accuracy: 0.6505 - val_loss: 0.5776 - val_accuracy: 0.6930 - 52s/epoch - 517ms/step\n",
      "Epoch 8/20\n",
      "100/100 - 53s - loss: 0.5990 - accuracy: 0.6760 - val_loss: 0.6408 - val_accuracy: 0.6190 - 53s/epoch - 525ms/step\n",
      "Epoch 9/20\n",
      "100/100 - 55s - loss: 0.6005 - accuracy: 0.6645 - val_loss: 0.5685 - val_accuracy: 0.7060 - 55s/epoch - 555ms/step\n",
      "Epoch 10/20\n",
      "100/100 - 52s - loss: 0.5941 - accuracy: 0.6795 - val_loss: 0.5578 - val_accuracy: 0.6990 - 52s/epoch - 522ms/step\n",
      "Epoch 11/20\n",
      "100/100 - 52s - loss: 0.5896 - accuracy: 0.6785 - val_loss: 0.5441 - val_accuracy: 0.7080 - 52s/epoch - 518ms/step\n",
      "Epoch 12/20\n",
      "100/100 - 53s - loss: 0.5736 - accuracy: 0.6945 - val_loss: 0.5491 - val_accuracy: 0.7130 - 53s/epoch - 528ms/step\n",
      "Epoch 13/20\n",
      "100/100 - 51s - loss: 0.5590 - accuracy: 0.7155 - val_loss: 0.5875 - val_accuracy: 0.6960 - 51s/epoch - 511ms/step\n",
      "Epoch 14/20\n",
      "100/100 - 51s - loss: 0.5634 - accuracy: 0.7020 - val_loss: 0.5578 - val_accuracy: 0.7150 - 51s/epoch - 507ms/step\n",
      "Epoch 15/20\n",
      "100/100 - 52s - loss: 0.5543 - accuracy: 0.7120 - val_loss: 0.5394 - val_accuracy: 0.7200 - 52s/epoch - 520ms/step\n",
      "Epoch 16/20\n",
      "100/100 - 51s - loss: 0.5532 - accuracy: 0.7095 - val_loss: 0.5150 - val_accuracy: 0.7230 - 51s/epoch - 513ms/step\n",
      "Epoch 17/20\n",
      "100/100 - 52s - loss: 0.5495 - accuracy: 0.7240 - val_loss: 0.5313 - val_accuracy: 0.7330 - 52s/epoch - 516ms/step\n",
      "Epoch 18/20\n",
      "100/100 - 52s - loss: 0.5444 - accuracy: 0.7195 - val_loss: 0.4949 - val_accuracy: 0.7530 - 52s/epoch - 521ms/step\n",
      "Epoch 19/20\n",
      "100/100 - 52s - loss: 0.5342 - accuracy: 0.7290 - val_loss: 0.5499 - val_accuracy: 0.7000 - 52s/epoch - 517ms/step\n",
      "Epoch 20/20\n",
      "100/100 - 52s - loss: 0.5430 - accuracy: 0.7140 - val_loss: 0.4951 - val_accuracy: 0.7560 - 52s/epoch - 517ms/step\n"
     ]
    }
   ],
   "source": [
    "# Create new model\n",
    "model_for_aug = create_model()\n",
    "\n",
    "# This code has changed. Now instead of the ImageGenerator just rescaling\n",
    "# the image, we also rotate and do other operations\n",
    "train_datagen = ImageDataGenerator(\n",
    "      rescale=1./255,\n",
    "      rotation_range=40,\n",
    "      width_shift_range=0.2,\n",
    "      height_shift_range=0.2,\n",
    "      shear_range=0.2,\n",
    "      zoom_range=0.2,\n",
    "      horizontal_flip=True,\n",
    "      fill_mode='nearest')\n",
    "\n",
    "test_datagen = ImageDataGenerator(rescale=1./255)\n",
    "\n",
    "# Flow training images in batches of 20 using train_datagen generator\n",
    "train_generator = train_datagen.flow_from_directory(\n",
    "        train_dir,  # This is the source directory for training images\n",
    "        target_size=(150, 150),  # All images will be resized to 150x150\n",
    "        batch_size=20,\n",
    "        # Since we use binary_crossentropy loss, we need binary labels\n",
    "        class_mode='binary')\n",
    "\n",
    "# Flow validation images in batches of 20 using test_datagen generator\n",
    "validation_generator = test_datagen.flow_from_directory(\n",
    "        validation_dir,\n",
    "        target_size=(150, 150),\n",
    "        batch_size=20,\n",
    "        class_mode='binary')\n",
    "\n",
    "# Train the new model\n",
    "history_with_aug = model_for_aug.fit(\n",
    "      train_generator,\n",
    "      steps_per_epoch=100,  # 2000 images = batch_size * steps\n",
    "      epochs=EPOCHS,\n",
    "      validation_data=validation_generator,\n",
    "      validation_steps=50,  # 1000 images = batch_size * steps\n",
    "      verbose=2)"
   ]
  },
  {
   "cell_type": "code",
   "execution_count": 9,
   "metadata": {
    "id": "bnyRnwopT5aW"
   },
   "outputs": [
    {
     "data": {
      "image/png": "[encoded data removed]",
      "text/plain": [
       "<Figure size 432x288 with 1 Axes>"
      ]
     },
     "metadata": {
      "needs_background": "light"
     },
     "output_type": "display_data"
    },
    {
     "data": {
      "image/png": "[encoded data removed]",
      "text/plain": [
       "<Figure size 432x288 with 1 Axes>"
      ]
     },
     "metadata": {
      "needs_background": "light"
     },
     "output_type": "display_data"
    }
   ],
   "source": [
    "# Plot the results of training with data augmentation\n",
    "plot_loss_acc(history_with_aug)"
   ]
  },
  {
   "cell_type": "markdown",
   "metadata": {
    "id": "1D1hd5fqmJUx"
   },
   "source": [
    "As you can see, the training accuracy has gone down compared to the baseline. This is expected because (as a result of data augmentation) there are more variety in the images so the model will need more runs to learn from them. The good thing is the validation accuracy is no longer stalling and is more in line with the training results. This means that the model is now performing better on unseen data. \n",
    "\n",
    "\n"
   ]
  },
  {
   "cell_type": "markdown",
   "metadata": {
    "id": "z4B9b6GPnKg1"
   },
   "source": [
    "## Wrap Up\n",
    "\n",
    "This exercise showed a simple trick to avoid overfitting. You can improve your baseline results by simply tweaking the same images you have already. The `ImageDataGenerator` class has built-in parameters to do just that. Try to modify the values some more in the `train_datagen` and see what results you get.\n",
    "\n",
    "Take note that this will not work for all cases. In the next lesson, Laurence will show a scenario where data augmentation will not help improve your validation accuracy."
   ]
  }
 ],
 "metadata": {
  "accelerator": "GPU",
  "colab": {
   "collapsed_sections": [],
   "name": "C2_W2_Lab_1_cats_v_dogs_augmentation.ipynb",
   "private_outputs": true,
   "provenance": [
    {
     "file_id": "https://github.com/https-deeplearning-ai/tensorflow-1-public/blob/adding_C2/C2/W2/ungraded_labs/C2_W2_Lab_1_cats_v_dogs_augmentation.ipynb",
     "timestamp": 1639637705486
    }
   ]
  },
  "kernelspec": {
   "display_name": "Python 3.10.5 ('ML-TensorFlow')",
   "language": "python",
   "name": "python3"
  },
  "language_info": {
   "codemirror_mode": {
    "name": "ipython",
    "version": 3
   },
   "file_extension": ".py",
   "mimetype": "text/x-python",
   "name": "python",
   "nbconvert_exporter": "python",
   "pygments_lexer": "ipython3",
   "version": "3.10.5"
  },
  "vscode": {
   "interpreter": {
    "hash": "d1f66bc1465963b37814a3c70c368474aa589106cfea63a6b29249f75798022b"
   }
  }
 },
 "nbformat": 4,
 "nbformat_minor": 1
}
